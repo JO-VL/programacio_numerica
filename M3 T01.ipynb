{
 "cells": [
  {
   "cell_type": "markdown",
   "id": "aae0dcf5",
   "metadata": {},
   "source": [
    "# EXERCICI 1"
   ]
  },
  {
   "cell_type": "markdown",
   "id": "8face6a2",
   "metadata": {},
   "source": [
    "### Crea una funció que donat un Array d’una dimensió, et faci un resum estadístic bàsic de les dades. Si detecta que l’array té més d’una dimensió, ha de mostrar un missatge d’error."
   ]
  },
  {
   "cell_type": "code",
   "execution_count": 1,
   "id": "76a82d79",
   "metadata": {},
   "outputs": [
    {
     "name": "stdout",
     "output_type": "stream",
     "text": [
      "Introdueix els valors de l'array separats per espais: 1 2 4 6\n"
     ]
    },
    {
     "data": {
      "text/plain": [
       "{'Mínim': 1,\n",
       " 'Màxim': 6,\n",
       " 'Mitja': 3.25,\n",
       " 'Mitjana': 3.0,\n",
       " 'Desviació estàndar': 1.920286436967152}"
      ]
     },
     "execution_count": 1,
     "metadata": {},
     "output_type": "execute_result"
    }
   ],
   "source": [
    "import numpy as np\n",
    "\n",
    "\n",
    "def resum_estadistic(array):\n",
    "    \n",
    "    if array.ndim > 1:\n",
    "        return \"Error: l'array ha de ser unidimensional.\"\n",
    "    \n",
    "    else:\n",
    "        result = {\n",
    "            'Mínim': np.min(array),\n",
    "            'Màxim': np.max(array),\n",
    "            'Mitjana': np.mean(array),\n",
    "            'Mediana': np.median(array),\n",
    "            'Desviació estàndar': np.std(array)\n",
    "             }\n",
    "        \n",
    "        return result\n",
    "    \n",
    "    \n",
    "    \n",
    "input_array = input(\"Introdueix els valors de l'array separats per espais: \")\n",
    "\n",
    "array = np.array(input_array.split(\" \")).astype(int)\n",
    "\n",
    "\n",
    "resum_estadistic(array)"
   ]
  },
  {
   "cell_type": "markdown",
   "id": "26771f5f",
   "metadata": {},
   "source": [
    "# EXERCICI 2"
   ]
  },
  {
   "cell_type": "markdown",
   "id": "7bb810f0",
   "metadata": {},
   "source": [
    "### Crea una funció que et generi un quadrat NxN de nombres aleatoris entre el 0 i el 100."
   ]
  },
  {
   "cell_type": "code",
   "execution_count": 2,
   "id": "16ead882",
   "metadata": {},
   "outputs": [
    {
     "name": "stdout",
     "output_type": "stream",
     "text": [
      "Introdueixi un número: 3\n"
     ]
    },
    {
     "data": {
      "text/plain": [
       "array([[76, 22, 59],\n",
       "       [59, 30, 97],\n",
       "       [48, 15, 15]])"
      ]
     },
     "execution_count": 2,
     "metadata": {},
     "output_type": "execute_result"
    }
   ],
   "source": [
    "import numpy as np\n",
    "\n",
    "def quadrat(n):\n",
    "    \n",
    "    x = np.random.randint(100, size=(n, n))\n",
    "\n",
    "    return(x)\n",
    "\n",
    "n = int(input(\"Introdueixi un número: \"))\n",
    "\n",
    "quadrat(n)"
   ]
  },
  {
   "cell_type": "markdown",
   "id": "da0a060d",
   "metadata": {},
   "source": [
    "# EXERCICI 3"
   ]
  },
  {
   "cell_type": "markdown",
   "id": "f208850a",
   "metadata": {},
   "source": [
    "### Crea una funció que donada una taula de dues dimensions (NxM), et calculi els totals per fila i els totals per columna."
   ]
  },
  {
   "cell_type": "code",
   "execution_count": 3,
   "id": "c8bed064",
   "metadata": {},
   "outputs": [
    {
     "name": "stdout",
     "output_type": "stream",
     "text": [
      "Totals por fila: [ 6 15 24]\n",
      "Totals por columna: [12 15 18]\n"
     ]
    }
   ],
   "source": [
    "import numpy as np\n",
    "\n",
    "def totals(taula):\n",
    "    \n",
    "    totals_fila = np.sum(taula, axis=1)\n",
    "    totals_columna = np.sum(taula, axis=0)\n",
    "\n",
    "    return totals_fila, totals_columna\n",
    "\n",
    "\n",
    "#exemple\n",
    "\n",
    "taula = np.array([[1, 2, 3], [4, 5, 6], [7, 8, 9]])\n",
    "\n",
    "fila_totals, columna_totals = totals(taula)\n",
    "\n",
    "print(\"Totals por fila:\", fila_totals)\n",
    "print(\"Totals por columna:\", columna_totals)"
   ]
  },
  {
   "cell_type": "markdown",
   "id": "39452abd",
   "metadata": {},
   "source": [
    "# EXERCICI 4"
   ]
  },
  {
   "cell_type": "markdown",
   "id": "eef44c5b",
   "metadata": {},
   "source": [
    "### Implementa manualment una funció que calculi el coeficient de correlació. Informa-te'n sobre els seus usos i interpretació."
   ]
  },
  {
   "cell_type": "code",
   "execution_count": 4,
   "id": "c40241af",
   "metadata": {},
   "outputs": [
    {
     "data": {
      "text/plain": [
       "array([[ 1.        , -0.46241441],\n",
       "       [-0.46241441,  1.        ]])"
      ]
     },
     "execution_count": 4,
     "metadata": {},
     "output_type": "execute_result"
    }
   ],
   "source": [
    "import numpy as np\n",
    "\n",
    "def correlacio(x, y):\n",
    "    \n",
    "    return np.corrcoef(x, y)\n",
    "\n",
    "\n",
    "\n",
    "#exemple\n",
    "\n",
    "x = [12, 25, 3, 4, 5]\n",
    "y = [5, 4, 33, 2, 11]\n",
    "\n",
    "\n",
    "correlacio(x,y)"
   ]
  },
  {
   "cell_type": "markdown",
   "id": "b93080db",
   "metadata": {},
   "source": [
    "La correlació indica la relació entre dues variables. Pot anar des de -1 fins a 1.\n",
    "\n",
    "Una correlació de 1 indica que dues variables augmenten o disminueixen conjuntament.\n",
    "Una correlació de -1 indica una relació inversa, on quan una variable augmenta mentre l'altra disminueix i viceversa.\n",
    "Una correlació inferior a 0,6 o -0,6 serà dubtosa, i per sota de 0,3 o -0,3 es considera mala correlació.\n",
    "\n",
    "La correlació no implica causalitat."
   ]
  }
 ],
 "metadata": {
  "kernelspec": {
   "display_name": "Python 3 (ipykernel)",
   "language": "python",
   "name": "python3"
  },
  "language_info": {
   "codemirror_mode": {
    "name": "ipython",
    "version": 3
   },
   "file_extension": ".py",
   "mimetype": "text/x-python",
   "name": "python",
   "nbconvert_exporter": "python",
   "pygments_lexer": "ipython3",
   "version": "3.10.9"
  }
 },
 "nbformat": 4,
 "nbformat_minor": 5
}
